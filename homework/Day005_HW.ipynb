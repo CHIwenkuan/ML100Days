{
 "cells": [
  {
   "cell_type": "markdown",
   "metadata": {},
   "source": [
    "# API 資料串接 - 以 Dcard API 實作範例\n",
    "\n",
    "* 了解 Dcard API 使用方式與回傳內容\n",
    "* 撰寫程式存取 API 且解析 JSON 格式資料\n"
   ]
  },
  {
   "cell_type": "markdown",
   "metadata": {},
   "source": [
    "## 作業目標\n",
    "\n",
    "* 請利用 API: https://www.dcard.tw/_api/forums/pet/posts?popular=true 回答下列問題：\n",
    "\n",
    "1. 這個 API 一次會回傳幾筆資料？每一筆資料包含哪些欄位？\n",
    "2. 取出每一筆資料的「標題」、「貼文時間」、「留言人數」、「按讚人數」\n",
    "3. 計算熱門/非熱門文章的「平均留言人數」與「平均按讚人數」"
   ]
  },
  {
   "cell_type": "code",
   "execution_count": 20,
   "metadata": {},
   "outputs": [
    {
     "name": "stdout",
     "output_type": "stream",
     "text": [
      "30\n"
     ]
    }
   ],
   "source": [
    "# 1. 這個 API 一次會回傳幾筆資料？每一筆資料包含哪些欄位？\n",
    "import requests\n",
    "r = requests.get('https://www.dcard.tw/_api/forums/pet/posts?popular=true')\n",
    "response = r.text\n",
    "\n",
    "import json\n",
    "data = json.loads(response)\n",
    "\n",
    "print(len(data))\n",
    "\n",
    "    "
   ]
  },
  {
   "cell_type": "code",
   "execution_count": 21,
   "metadata": {},
   "outputs": [
    {
     "name": "stdout",
     "output_type": "stream",
     "text": [
      "妳家貓的蛋蛋怎麼那麼大😳\n",
      "2021-03-05T09:02:15.378Z\n",
      "21\n",
      "1279\n",
      "自以為是的「愛媽」\n",
      "2021-03-05T13:07:40.141Z\n",
      "23\n",
      "94\n",
      "我搶到的東西就是我的，休想要回來！\n",
      "2021-03-05T15:34:23.506Z\n",
      "10\n",
      "85\n",
      "美容院調包我的狗？！\n",
      "2021-03-06T03:15:41.647Z\n",
      "9\n",
      "73\n",
      "發現我女兒的真身‼️\n",
      "2021-03-06T03:23:46.367Z\n",
      "1\n",
      "68\n",
      "母貓取名\n",
      "2021-03-05T12:17:24.353Z\n",
      "40\n",
      "47\n",
      "對豆卡頻道貼圖超興奮的貓\n",
      "2021-03-06T05:16:55.290Z\n",
      "6\n",
      "43\n",
      "確定領養了卻被寄養的人拒絕？\n",
      "2021-03-06T03:47:10.799Z\n",
      "6\n",
      "25\n",
      "我家兔子只會幹我\n",
      "2021-03-05T09:15:51.056Z\n",
      "3\n",
      "23\n",
      "#鼠鼠 分享可愛寶貝一枚🥰\n",
      "2021-03-05T08:59:33.707Z\n",
      "8\n",
      "23\n",
      "新竹寵物送養\n",
      "2021-03-05T09:14:59.317Z\n",
      "7\n",
      "20\n",
      "狗狗容易喘怎麼辦?\n",
      "2021-03-05T07:52:47.684Z\n",
      "4\n",
      "20\n",
      "一直有惡意留言誤刪文重發_咖啡廳貓衝到馬路攻擊狗\n",
      "2021-03-05T13:22:46.500Z\n",
      "0\n",
      "19\n",
      "貓咪可能被蚊子咬的相關問題\n",
      "2021-03-05T12:56:21.764Z\n",
      "3\n",
      "18\n",
      "橘貓姿勢多，最近學會拉筋\n",
      "2021-03-05T03:01:20.359Z\n",
      "4\n",
      "17\n",
      "貓咪突然性情轉變\n",
      "2021-03-06T05:59:07.608Z\n",
      "1\n",
      "16\n",
      "汪喵星球 85%機能魚油\n",
      "2021-03-05T19:03:10.245Z\n",
      "2\n",
      "16\n",
      "黃阿瑪的後宮生活影片Part1\n",
      "2021-03-05T10:39:49.367Z\n",
      "0\n",
      "14\n",
      "有人能認養貓貓嗎，拜託大家\n",
      "2021-03-06T04:51:08.132Z\n",
      "4\n",
      "13\n",
      "有可以隔音的外出包嗎\n",
      "2021-03-06T04:03:52.568Z\n",
      "7\n",
      "13\n",
      "何謂合格的愛貓貓舍？\n",
      "2021-03-05T13:05:55.028Z\n",
      "6\n",
      "13\n",
      "第一次養貓就養一直想要的橘貓🍊\n",
      "2021-03-06T06:30:21.347Z\n",
      "1\n",
      "12\n",
      "更新芋圓的近況 也希望大家幫忙\n",
      "2021-03-06T04:44:37.439Z\n",
      "2\n",
      "12\n",
      "#高雄 #黃金鼠詢問\n",
      "2021-03-05T16:07:42.927Z\n",
      "5\n",
      "12\n",
      "基隆仁愛市場旁有親人母貓\n",
      "2021-03-05T18:26:55.763Z\n",
      "0\n",
      "11\n",
      "我的開心果❤️\n",
      "2021-03-06T07:30:40.963Z\n",
      "0\n",
      "10\n",
      "貓咪端火鍋\n",
      "2021-03-05T17:50:15.696Z\n",
      "6\n",
      "10\n",
      "拜託大家一起幫忙🙏🏻\n",
      "2021-03-05T08:26:21.210Z\n",
      "0\n",
      "9\n",
      "《嘉義》貓咪協尋\n",
      "2021-03-05T17:25:39.514Z\n",
      "0\n",
      "8\n",
      "貓咪的仰角\n",
      "2021-03-05T15:42:03.204Z\n",
      "0\n",
      "8\n"
     ]
    }
   ],
   "source": [
    "# 2. 取出每一筆資料的「標題」、「貼文時間」、「留言人數」、「按讚人數」\n",
    "for d in data:\n",
    "    print(d['title'])\n",
    "    print(d['createdAt'])\n",
    "    print(d['commentCount'])\n",
    "    print(d['likeCount'])\n",
    "    \n",
    "    \n",
    "            "
   ]
  },
  {
   "cell_type": "code",
   "execution_count": 22,
   "metadata": {},
   "outputs": [
    {
     "name": "stdout",
     "output_type": "stream",
     "text": [
      "5.966666666666667 67.7\n",
      "1.2666666666666666 7.133333333333334\n"
     ]
    }
   ],
   "source": [
    "# 3. 計算熱門/非熱門文章的「平均留言人數」與「平均按讚人數」\n",
    "commentCountp = 0\n",
    "likeCountp = 0\n",
    "for d in data:\n",
    "    commentCountp += d['commentCount']\n",
    "    likeCountp += d['likeCount']\n",
    "\n",
    "print(commentCountp/len(data), likeCountp/len(data))\n",
    "\n",
    "r = requests.get('https://www.dcard.tw/_api/forums/job/posts?popular=false')\n",
    "response = r.text\n",
    "data = json.loads(response)\n",
    "commentCountnp = 0\n",
    "likeCountnp = 0\n",
    "for d in data:\n",
    "    commentCountnp += d['commentCount']\n",
    "    likeCountnp += d['likeCount']\n",
    "\n",
    "print(commentCountnp/len(data), likeCountnp/len(data))\n",
    "    "
   ]
  },
  {
   "cell_type": "code",
   "execution_count": null,
   "metadata": {},
   "outputs": [],
   "source": []
  },
  {
   "cell_type": "code",
   "execution_count": null,
   "metadata": {},
   "outputs": [],
   "source": []
  }
 ],
 "metadata": {
  "kernelspec": {
   "display_name": "Python 3",
   "language": "python",
   "name": "python3"
  },
  "language_info": {
   "codemirror_mode": {
    "name": "ipython",
    "version": 3
   },
   "file_extension": ".py",
   "mimetype": "text/x-python",
   "name": "python",
   "nbconvert_exporter": "python",
   "pygments_lexer": "ipython3",
   "version": "3.8.5"
  }
 },
 "nbformat": 4,
 "nbformat_minor": 2
}
